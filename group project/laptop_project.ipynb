{
 "cells": [
  {
   "cell_type": "code",
   "execution_count": 1,
   "id": "26578b86",
   "metadata": {},
   "outputs": [
    {
     "data": {
      "text/plain": [
       "(1303, 13)"
      ]
     },
     "execution_count": 1,
     "metadata": {},
     "output_type": "execute_result"
    }
   ],
   "source": [
    "import pandas as pd\n",
    "import numpy as np\n",
    "import matplotlib.pyplot as plt\n",
    "import seaborn as sns\n",
    "from sklearn.model_selection import train_test_split\n",
    "#from sklearn.ensemble import RandomForestRegressor\n",
    "#from sklearn.metrics import mean_absolute_error\n",
    "#from sklearn.metrics import accuracy_score,precision_score,recall_score,f1_score\n",
    "file = \"my_laptop_prices.csv\"\n",
    "data = pd.read_csv(file)\n",
    "#print(data.Memory.unique())\n",
    "data.shape"
   ]
  },
  {
   "cell_type": "code",
   "execution_count": 2,
   "id": "0706419a",
   "metadata": {},
   "outputs": [],
   "source": [
    "data = data.fillna(0)"
   ]
  },
  {
   "cell_type": "code",
   "execution_count": 3,
   "id": "7ed26709",
   "metadata": {},
   "outputs": [],
   "source": [
    "y = data.Price\n",
    "X = data.drop(['Price'], axis=1)\n",
    "\n",
    "# Divide data into training and validation subsets\n",
    "X_train, X_valid, y_train, y_valid = train_test_split(X, y, train_size=0.7, test_size=0.3,\n",
    "                                                                random_state=0)"
   ]
  },
  {
   "cell_type": "code",
   "execution_count": 4,
   "id": "65b45db2",
   "metadata": {},
   "outputs": [
    {
     "name": "stdout",
     "output_type": "stream",
     "text": [
      "['Company', 'TypeName', 'ScreenResolution', 'Cpu', 'Memory', 'Gpu', 'OpSys']\n"
     ]
    }
   ],
   "source": [
    "s = (X_train.dtypes == 'object')\n",
    "object_cols = list(s[s].index)\n",
    "print(object_cols)"
   ]
  },
  {
   "cell_type": "code",
   "execution_count": 5,
   "id": "2447a2f0",
   "metadata": {},
   "outputs": [
    {
     "name": "stdout",
     "output_type": "stream",
     "text": [
      "Company             0\n",
      "TypeName            0\n",
      "Inches              0\n",
      "ScreenResolution    0\n",
      "Cpu                 0\n",
      "Ram                 0\n",
      "SSD                 0\n",
      "HDD                 0\n",
      "Memory              0\n",
      "Gpu                 0\n",
      "OpSys               0\n",
      "Weight              0\n",
      "Price               0\n",
      "dtype: int64\n"
     ]
    }
   ],
   "source": [
    "print(data.isnull().sum())"
   ]
  },
  {
   "cell_type": "code",
   "execution_count": 6,
   "id": "45930144",
   "metadata": {},
   "outputs": [],
   "source": [
    "from sklearn.ensemble import RandomForestRegressor\n",
    "from sklearn.metrics import mean_absolute_error\n",
    "\n",
    "# Function for comparing different approaches\n",
    "def score_dataset(X_train, X_valid, y_train, y_valid):\n",
    "    model = RandomForestRegressor(n_estimators=100, random_state = 0)\n",
    "    model.fit(X_train, y_train)\n",
    "    preds = model.predict(X_valid)\n",
    "    return mean_absolute_error(y_valid, preds)"
   ]
  },
  {
   "cell_type": "code",
   "execution_count": 7,
   "id": "214d0bdc",
   "metadata": {},
   "outputs": [
    {
     "name": "stdout",
     "output_type": "stream",
     "text": [
      "MAE from Approach 3 (One-Hot Encoding):\n",
      "10969.039582525094\n"
     ]
    }
   ],
   "source": [
    "from sklearn.preprocessing import OneHotEncoder\n",
    "\n",
    "# Apply one-hot encoder to each column with categorical data\n",
    "OH_encoder = OneHotEncoder(handle_unknown='ignore', sparse=False)\n",
    "OH_cols_train = pd.DataFrame(OH_encoder.fit_transform(X_train[object_cols]))\n",
    "OH_cols_valid = pd.DataFrame(OH_encoder.transform(X_valid[object_cols]))\n",
    "\n",
    "# One-hot encoding removed index; put it back\n",
    "OH_cols_train.index = X_train.index\n",
    "OH_cols_valid.index = X_valid.index\n",
    "\n",
    "# Remove categorical columns (will replace with one-hot encoding)\n",
    "num_X_train = X_train.drop(object_cols, axis=1)\n",
    "num_X_valid = X_valid.drop(object_cols, axis=1)\n",
    "\n",
    "# Add one-hot encoded columns to numerical features\n",
    "OH_X_train = pd.concat([num_X_train, OH_cols_train], axis=1)\n",
    "OH_X_valid = pd.concat([num_X_valid, OH_cols_valid], axis=1)\n",
    "\n",
    "print(\"MAE from Approach 3 (One-Hot Encoding):\") \n",
    "print(score_dataset(OH_X_train, OH_X_valid, y_train, y_valid))"
   ]
  },
  {
   "cell_type": "code",
   "execution_count": 8,
   "id": "c1fb71aa",
   "metadata": {
    "scrolled": true
   },
   "outputs": [
    {
     "name": "stderr",
     "output_type": "stream",
     "text": [
      "C:\\Users\\USER\\anaconda3\\lib\\site-packages\\seaborn\\distributions.py:2619: FutureWarning: `distplot` is a deprecated function and will be removed in a future version. Please adapt your code to use either `displot` (a figure-level function with similar flexibility) or `histplot` (an axes-level function for histograms).\n",
      "  warnings.warn(msg, FutureWarning)\n"
     ]
    },
    {
     "data": {
      "image/png": "[encoded data removed]",
      "text/plain": [
       "<Figure size 432x288 with 1 Axes>"
      ]
     },
     "metadata": {
      "needs_background": "light"
     },
     "output_type": "display_data"
    }
   ],
   "source": [
    "#Checking how the target column is distributed\n",
    "sns.distplot(data['Price'])\n",
    "plt.show()"
   ]
  },
  {
   "cell_type": "code",
   "execution_count": 9,
   "id": "d3133c07",
   "metadata": {},
   "outputs": [
    {
     "data": {
      "image/png": "[encoded data removed]",
      "text/plain": [
       "<Figure size 432x288 with 1 Axes>"
      ]
     },
     "metadata": {
      "needs_background": "light"
     },
     "output_type": "display_data"
    }
   ],
   "source": [
    "#CHECKING HOW THE TYPENAME IS RELATED TO THE PRICE OF THE LAPTOP\n",
    "# sns.barplot(xa=data['TypeName'], y=data['Price'])\n",
    "plt.xticks(rotation=\"vertical\")\n",
    "plt.show()"
   ]
  },
  {
   "cell_type": "code",
   "execution_count": 10,
   "id": "33318908",
   "metadata": {},
   "outputs": [
    {
     "data": {
      "image/png": "[encoded data removed]",
      "text/plain": [
       "<Figure size 432x288 with 1 Axes>"
      ]
     },
     "metadata": {
      "needs_background": "light"
     },
     "output_type": "display_data"
    }
   ],
   "source": [
    "#Checking the relationship between the copany and the price of a laptop\n",
    "sns.barplot(x=data['Company'], y=data['Price'])\n",
    "\n",
    "plt.xticks(rotation=\"vertical\")\n",
    "\n",
    "plt.show()"
   ]
  },
  {
   "cell_type": "code",
   "execution_count": 11,
   "id": "b9f3d444",
   "metadata": {},
   "outputs": [
    {
     "name": "stderr",
     "output_type": "stream",
     "text": [
      "C:\\Users\\USER\\anaconda3\\lib\\site-packages\\seaborn\\_decorators.py:36: FutureWarning: Pass the following variable as a keyword arg: x. From version 0.12, the only valid positional argument will be `data`, and passing other arguments without an explicit keyword will result in an error or misinterpretation.\n",
      "  warnings.warn(\n"
     ]
    },
    {
     "data": {
      "text/plain": [
       "<AxesSubplot:xlabel='Touchscreen', ylabel='Price'>"
      ]
     },
     "execution_count": 11,
     "metadata": {},
     "output_type": "execute_result"
    },
    {
     "data": {
      "image/png": "[encoded data removed]",
      "text/plain": [
       "<Figure size 432x288 with 1 Axes>"
      ]
     },
     "metadata": {
      "needs_background": "light"
     },
     "output_type": "display_data"
    }
   ],
   "source": [
    "data['Touchscreen'] = data['ScreenResolution'].apply(lambda x:1 if 'Touchscreen' in x else 0)\n",
    "#how many laptops in data are touchscreen\n",
    "sns.countplot(data['Touchscreen'])\n",
    "#Plot against price\n",
    "sns.barplot(x=data['Touchscreen'],y=data['Price'])"
   ]
  },
  {
   "cell_type": "code",
   "execution_count": 12,
   "id": "65e338b0",
   "metadata": {},
   "outputs": [
    {
     "data": {
      "text/plain": [
       "<AxesSubplot:xlabel='Ips', ylabel='Price'>"
      ]
     },
     "execution_count": 12,
     "metadata": {},
     "output_type": "execute_result"
    },
    {
     "data": {
      "image/png": "[encoded data removed]",
      "text/plain": [
       "<Figure size 432x288 with 1 Axes>"
      ]
     },
     "metadata": {
      "needs_background": "light"
     },
     "output_type": "display_data"
    }
   ],
   "source": [
    "#extract IPS column\n",
    "data['Ips'] = data['ScreenResolution'].apply(lambda x:1 if 'IPS' in x else 0)\n",
    "sns.barplot(x=data['Ips'],y=data['Price'])"
   ]
  },
  {
   "cell_type": "code",
   "execution_count": 13,
   "id": "f2a25eb2",
   "metadata": {},
   "outputs": [],
   "source": [
    "# getting the last values of the rows of column ScreenResolution and spliting them into two rows and getting  X and Y values \n",
    "def findXresolution(s):\n",
    "  return s.split()[-1].split(\"x\")[0]\n",
    "def findYresolution(s):\n",
    "  return s.split()[-1].split(\"x\")[1]\n",
    "#finding the x_res and y_res from screen resolution\n",
    "data['X_res'] = data['ScreenResolution'].apply(lambda x: findXresolution(x))\n",
    "data['Y_res'] = data['ScreenResolution'].apply(lambda y: findYresolution(y))\n",
    "#convert to numeric\n",
    "data['X_res'] = data['X_res'].astype('int')\n",
    "data['Y_res'] = data['Y_res'].astype('int')"
   ]
  },
  {
   "cell_type": "code",
   "execution_count": 14,
   "id": "ad9902ae",
   "metadata": {},
   "outputs": [
    {
     "data": {
      "text/plain": [
       "Price          1.000000\n",
       "Ram            0.743007\n",
       "SSD            0.617447\n",
       "X_res          0.556529\n",
       "Y_res          0.552809\n",
       "ppi            0.473487\n",
       "Ips            0.252208\n",
       "Weight         0.210370\n",
       "Touchscreen    0.191226\n",
       "Inches         0.068197\n",
       "HDD           -0.085385\n",
       "Name: Price, dtype: float64"
      ]
     },
     "execution_count": 14,
     "metadata": {},
     "output_type": "execute_result"
    }
   ],
   "source": [
    "# creating another (ppi) feature using the existing features\n",
    "# using the ppi formula\n",
    "# data: inches,X_res,Y_res\n",
    "data['ppi'] = (((data['X_res']**2) + (data['Y_res']**2))**0.5/data['Inches']).astype('float')\n",
    "data.corr()['Price'].sort_values(ascending=False)"
   ]
  },
  {
   "cell_type": "code",
   "execution_count": 15,
   "id": "12ebfe86",
   "metadata": {},
   "outputs": [],
   "source": [
    "#data.head(10)"
   ]
  },
  {
   "cell_type": "code",
   "execution_count": 16,
   "id": "064257a5",
   "metadata": {},
   "outputs": [],
   "source": [
    "#memory_category= data[[\"SSD\",\"HDD\"]]\n",
    "#data[\"memory_category_count\"] = data.gt(0).sum(axis=1) for data[[\"SSD\",\"HDD\"]]"
   ]
  },
  {
   "cell_type": "code",
   "execution_count": 17,
   "id": "ffad0430",
   "metadata": {},
   "outputs": [],
   "source": [
    "# def mem_count():\n",
    "#     for cols in data:\n",
    "#         if cols==( data.loc[:,'HDD']> 0  & data.loc[ :,'SSD'] > 0):\n",
    "#             data[\"cat\"]=2\n",
    "#         elif cols==data.loc[ : ,'HDD'] > 0 & data.loc[ : ,'SSD'] ==0:\n",
    "#             data[\"cat\"]=1\n",
    "#         else:\n",
    "#             data[\"cat\"]= 0\n",
    "#     return data + data[\"cat\"]\n",
    "\n",
    "# mem_count()\n",
    "    "
   ]
  },
  {
   "cell_type": "code",
   "execution_count": 18,
   "id": "92551671",
   "metadata": {},
   "outputs": [],
   "source": [
    "#data"
   ]
  },
  {
   "cell_type": "code",
   "execution_count": 19,
   "id": "65f59921",
   "metadata": {},
   "outputs": [],
   "source": [
    "#droping columns used to create feature (ppi)\n",
    "data.drop(columns = ['ScreenResolution', 'Inches','X_res','Y_res'], inplace=True)"
   ]
  },
  {
   "cell_type": "code",
   "execution_count": 20,
   "id": "59781120",
   "metadata": {},
   "outputs": [
    {
     "data": {
      "text/plain": [
       "Price          1.000000\n",
       "Ram            0.743007\n",
       "SSD            0.617447\n",
       "ppi            0.473487\n",
       "Ips            0.252208\n",
       "Weight         0.210370\n",
       "Touchscreen    0.191226\n",
       "HDD           -0.085385\n",
       "Name: Price, dtype: float64"
      ]
     },
     "execution_count": 20,
     "metadata": {},
     "output_type": "execute_result"
    }
   ],
   "source": [
    "#evaluating the columns of data to see which their level of relation with the price\n",
    "data.corr()['Price'].sort_values(ascending=False)"
   ]
  },
  {
   "cell_type": "code",
   "execution_count": 21,
   "id": "817f4843",
   "metadata": {},
   "outputs": [],
   "source": [
    "# extracting the Name of CPU which is first 3 words from Cpu column and then we will check which processor it is\n",
    "def get_processor_name(x):\n",
    "  processor_name = \" \".join(x.split()[0:3])\n",
    "  if processor_name == 'Intel Core i7' or processor_name== 'Intel Core i5' or processor_name == 'Intel Core i3':\n",
    "    return processor_name\n",
    "  elif processor_name.split()[0] == 'Intel':\n",
    "    return 'Other Intel Processor'\n",
    "  else:\n",
    "    return 'AMD Processor'\n",
    "data['Cpu_brand'] = data['Cpu'].apply(lambda x: get_processor_name(x))"
   ]
  },
  {
   "cell_type": "code",
   "execution_count": 22,
   "id": "8b28a5ba",
   "metadata": {},
   "outputs": [
    {
     "data": {
      "image/png": "[encoded data removed]",
      "text/plain": [
       "<Figure size 432x288 with 1 Axes>"
      ]
     },
     "metadata": {
      "needs_background": "light"
     },
     "output_type": "display_data"
    }
   ],
   "source": [
    "#visualization of how cpu_brand  is related to the prices of laptops\n",
    "sns.barplot(x=data['Cpu_brand'],y=data['Price'])\n",
    "plt.xticks(rotation='vertical')\n",
    "plt.show()"
   ]
  },
  {
   "cell_type": "code",
   "execution_count": 23,
   "id": "b122f4cf",
   "metadata": {},
   "outputs": [
    {
     "name": "stderr",
     "output_type": "stream",
     "text": [
      "C:\\Users\\USER\\anaconda3\\lib\\site-packages\\seaborn\\_decorators.py:36: FutureWarning: Pass the following variables as keyword args: x, y. From version 0.12, the only valid positional argument will be `data`, and passing other arguments without an explicit keyword will result in an error or misinterpretation.\n",
      "  warnings.warn(\n"
     ]
    },
    {
     "data": {
      "image/png": "[encoded data removed]",
      "text/plain": [
       "<Figure size 432x288 with 1 Axes>"
      ]
     },
     "metadata": {
      "needs_background": "light"
     },
     "output_type": "display_data"
    }
   ],
   "source": [
    "#visualization of how ram is related to the prices of laptops\n",
    "sns.barplot(data['Ram'], data['Price'])\n",
    "plt.show()"
   ]
  },
  {
   "cell_type": "code",
   "execution_count": 24,
   "id": "009c03fc",
   "metadata": {},
   "outputs": [],
   "source": [
    "#data.head(30)"
   ]
  },
  {
   "cell_type": "code",
   "execution_count": 25,
   "id": "bebc9a3e",
   "metadata": {},
   "outputs": [],
   "source": [
    "data.drop(columns=['Memory','Cpu'],inplace=True)"
   ]
  },
  {
   "cell_type": "code",
   "execution_count": 26,
   "id": "8b1c7e83",
   "metadata": {},
   "outputs": [],
   "source": [
    "#data.head(30)"
   ]
  },
  {
   "cell_type": "code",
   "execution_count": 27,
   "id": "12b81d27",
   "metadata": {},
   "outputs": [],
   "source": [
    "#differenciating laptops with different GPU\n",
    "data['Gpu_brand'] = data['Gpu'].apply(lambda x:x.split()[0])\n",
    "#remove the arm gpu because its contained only on one row\n",
    "data = data[data['Gpu_brand'] != 'ARM']\n",
    "data.drop(columns=['Gpu'],inplace=True)"
   ]
  },
  {
   "cell_type": "code",
   "execution_count": 28,
   "id": "3c147e62",
   "metadata": {},
   "outputs": [],
   "source": [
    "#data.head(10)"
   ]
  },
  {
   "cell_type": "code",
   "execution_count": 29,
   "id": "a5dfc52d",
   "metadata": {},
   "outputs": [],
   "source": [
    "#creating column os to specify os of the laptop from OpsSys column\n",
    "def lap_os(x):\n",
    "    if x == 'Windows 10' or x == 'Windows 7' or x == 'Windows 10 S':\n",
    "        return 'Windows'\n",
    "    elif x == 'macOS' or x == 'Mac OS X':\n",
    "        return 'Mac'\n",
    "    else:\n",
    "        return 'other types of OS'\n",
    "data['os'] = data['OpSys'].apply(lap_os)\n",
    "data.drop(columns=['OpSys'],inplace=True)"
   ]
  },
  {
   "cell_type": "code",
   "execution_count": 30,
   "id": "6a301ad2",
   "metadata": {},
   "outputs": [],
   "source": [
    "# #visualization of os againist the price of laptop to see their relationship\n",
    "# sns.barplot(x=data['os'],y=data['Price'])\n",
    "# plt.xticks(rotation='vertical')\n",
    "# plt.show()"
   ]
  },
  {
   "cell_type": "code",
   "execution_count": 31,
   "id": "2e5e63f0",
   "metadata": {},
   "outputs": [],
   "source": [
    "# # transforming the price colunm so that the price can be normally distributed\n",
    "# sns.distplot(np.log(data['Price']))\n",
    "# plt.show()"
   ]
  },
  {
   "cell_type": "code",
   "execution_count": 32,
   "id": "729ba199",
   "metadata": {},
   "outputs": [],
   "source": [
    "from sklearn.linear_model import LinearRegression,Ridge,Lasso\n",
    "from sklearn.neighbors import KNeighborsRegressor\n",
    "from sklearn.pipeline import Pipeline\n",
    "from sklearn.preprocessing import OneHotEncoder\n",
    "from sklearn.ensemble import RandomForestRegressor,GradientBoostingRegressor,AdaBoostRegressor,ExtraTreesRegressor\n",
    "from sklearn.svm import SVR\n",
    "from sklearn.metrics import r2_score,mean_absolute_error\n",
    "from sklearn.model_selection import train_test_split\n",
    "from sklearn.compose import ColumnTransformer\n",
    "from sklearn.tree import DecisionTreeRegressor\n",
    "\n",
    "#from XGBoost import XGBRegressor"
   ]
  },
  {
   "cell_type": "code",
   "execution_count": 33,
   "id": "0dc94179",
   "metadata": {},
   "outputs": [],
   "source": [
    "X = data.drop(columns=['Price'])\n",
    "\n",
    "y = np.log(data['Price'])\n",
    "\n",
    "X_train,X_test,y_train,y_test = train_test_split(X,y,test_size=0.15,random_state=2)"
   ]
  },
  {
   "cell_type": "code",
   "execution_count": 34,
   "id": "1fe8b1da",
   "metadata": {},
   "outputs": [
    {
     "data": {
      "text/html": [
       "<div>\n",
       "<style scoped>\n",
       "    .dataframe tbody tr th:only-of-type {\n",
       "        vertical-align: middle;\n",
       "    }\n",
       "\n",
       "    .dataframe tbody tr th {\n",
       "        vertical-align: top;\n",
       "    }\n",
       "\n",
       "    .dataframe thead th {\n",
       "        text-align: right;\n",
       "    }\n",
       "</style>\n",
       "<table border=\"1\" class=\"dataframe\">\n",
       "  <thead>\n",
       "    <tr style=\"text-align: right;\">\n",
       "      <th></th>\n",
       "      <th>Company</th>\n",
       "      <th>TypeName</th>\n",
       "      <th>Ram</th>\n",
       "      <th>SSD</th>\n",
       "      <th>HDD</th>\n",
       "      <th>Weight</th>\n",
       "      <th>Touchscreen</th>\n",
       "      <th>Ips</th>\n",
       "      <th>ppi</th>\n",
       "      <th>Cpu_brand</th>\n",
       "      <th>Gpu_brand</th>\n",
       "      <th>os</th>\n",
       "    </tr>\n",
       "  </thead>\n",
       "  <tbody>\n",
       "    <tr>\n",
       "      <th>0</th>\n",
       "      <td>Apple</td>\n",
       "      <td>Ultrabook</td>\n",
       "      <td>8</td>\n",
       "      <td>128.0</td>\n",
       "      <td>0.0</td>\n",
       "      <td>1.37</td>\n",
       "      <td>0</td>\n",
       "      <td>1</td>\n",
       "      <td>226.983005</td>\n",
       "      <td>Intel Core i5</td>\n",
       "      <td>Intel</td>\n",
       "      <td>Mac</td>\n",
       "    </tr>\n",
       "    <tr>\n",
       "      <th>1</th>\n",
       "      <td>Apple</td>\n",
       "      <td>Ultrabook</td>\n",
       "      <td>8</td>\n",
       "      <td>0.0</td>\n",
       "      <td>0.0</td>\n",
       "      <td>1.34</td>\n",
       "      <td>0</td>\n",
       "      <td>0</td>\n",
       "      <td>127.677940</td>\n",
       "      <td>Intel Core i5</td>\n",
       "      <td>Intel</td>\n",
       "      <td>Mac</td>\n",
       "    </tr>\n",
       "    <tr>\n",
       "      <th>2</th>\n",
       "      <td>HP</td>\n",
       "      <td>Notebook</td>\n",
       "      <td>8</td>\n",
       "      <td>256.0</td>\n",
       "      <td>0.0</td>\n",
       "      <td>1.86</td>\n",
       "      <td>0</td>\n",
       "      <td>0</td>\n",
       "      <td>141.211998</td>\n",
       "      <td>Intel Core i5</td>\n",
       "      <td>Intel</td>\n",
       "      <td>other types of OS</td>\n",
       "    </tr>\n",
       "    <tr>\n",
       "      <th>3</th>\n",
       "      <td>Apple</td>\n",
       "      <td>Ultrabook</td>\n",
       "      <td>16</td>\n",
       "      <td>512.0</td>\n",
       "      <td>0.0</td>\n",
       "      <td>1.83</td>\n",
       "      <td>0</td>\n",
       "      <td>1</td>\n",
       "      <td>220.534624</td>\n",
       "      <td>Intel Core i7</td>\n",
       "      <td>AMD</td>\n",
       "      <td>Mac</td>\n",
       "    </tr>\n",
       "    <tr>\n",
       "      <th>4</th>\n",
       "      <td>Apple</td>\n",
       "      <td>Ultrabook</td>\n",
       "      <td>8</td>\n",
       "      <td>256.0</td>\n",
       "      <td>0.0</td>\n",
       "      <td>1.37</td>\n",
       "      <td>0</td>\n",
       "      <td>1</td>\n",
       "      <td>226.983005</td>\n",
       "      <td>Intel Core i5</td>\n",
       "      <td>Intel</td>\n",
       "      <td>Mac</td>\n",
       "    </tr>\n",
       "  </tbody>\n",
       "</table>\n",
       "</div>"
      ],
      "text/plain": [
       "  Company   TypeName  Ram    SSD  HDD  Weight  Touchscreen  Ips         ppi  \\\n",
       "0   Apple  Ultrabook    8  128.0  0.0    1.37            0    1  226.983005   \n",
       "1   Apple  Ultrabook    8    0.0  0.0    1.34            0    0  127.677940   \n",
       "2      HP   Notebook    8  256.0  0.0    1.86            0    0  141.211998   \n",
       "3   Apple  Ultrabook   16  512.0  0.0    1.83            0    1  220.534624   \n",
       "4   Apple  Ultrabook    8  256.0  0.0    1.37            0    1  226.983005   \n",
       "\n",
       "       Cpu_brand Gpu_brand                 os  \n",
       "0  Intel Core i5     Intel                Mac  \n",
       "1  Intel Core i5     Intel                Mac  \n",
       "2  Intel Core i5     Intel  other types of OS  \n",
       "3  Intel Core i7       AMD                Mac  \n",
       "4  Intel Core i5     Intel                Mac  "
      ]
     },
     "execution_count": 34,
     "metadata": {},
     "output_type": "execute_result"
    }
   ],
   "source": [
    "X.head()"
   ]
  },
  {
   "cell_type": "code",
   "execution_count": 35,
   "id": "4abf508e",
   "metadata": {},
   "outputs": [
    {
     "name": "stdout",
     "output_type": "stream",
     "text": [
      "R2 score 0.882869411029419\n",
      "MAE 0.16303565045551266\n"
     ]
    }
   ],
   "source": [
    "step1 = ColumnTransformer(transformers=[\n",
    "\n",
    "('col_tnf',OneHotEncoder(sparse=False,drop='first'),[0,1,9,10,11])\n",
    "\n",
    "],remainder='passthrough')\n",
    "\n",
    "step2 = RandomForestRegressor(n_estimators=100,\n",
    "\n",
    "random_state=3,\n",
    "\n",
    "max_samples=0.5,\n",
    "\n",
    "max_features=0.75,\n",
    "\n",
    "max_depth=15)\n",
    "\n",
    "pipe = Pipeline([\n",
    "\n",
    "('step1',step1),\n",
    "\n",
    "('step2',step2)\n",
    "\n",
    "])\n",
    "\n",
    "pipe.fit(X_train,y_train)\n",
    "\n",
    "y_pred = pipe.predict(X_test)\n",
    "\n",
    "print('R2 score',r2_score(y_test,y_pred))\n",
    "\n",
    "print('MAE',mean_absolute_error(y_test,y_pred))"
   ]
  },
  {
   "cell_type": "code",
   "execution_count": 36,
   "id": "b3d39b21",
   "metadata": {},
   "outputs": [],
   "source": [
    "import pickle\n",
    "data.to_csv(\"second2_data.csv\", index=False)\n"
   ]
  },
  {
   "cell_type": "code",
   "execution_count": 37,
   "id": "e1fcf17f",
   "metadata": {},
   "outputs": [],
   "source": [
    "pickle.dump(pipe,open('pipe.pkl','wb'))"
   ]
  },
  {
   "cell_type": "code",
   "execution_count": null,
   "id": "7e12f469",
   "metadata": {},
   "outputs": [],
   "source": []
  }
 ],
 "metadata": {
  "kernelspec": {
   "display_name": "Python 3 (ipykernel)",
   "language": "python",
   "name": "python3"
  },
  "language_info": {
   "codemirror_mode": {
    "name": "ipython",
    "version": 3
   },
   "file_extension": ".py",
   "mimetype": "text/x-python",
   "name": "python",
   "nbconvert_exporter": "python",
   "pygments_lexer": "ipython3",
   "version": "3.9.7"
  }
 },
 "nbformat": 4,
 "nbformat_minor": 5
}
